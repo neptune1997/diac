{
 "cells": [
  {
   "cell_type": "code",
   "execution_count": 1,
   "metadata": {},
   "outputs": [],
   "source": [
    "import pandas as pd\n",
    "import numpy as np\n",
    "from pkuseg import pkuseg\n",
    "from matplotlib import pyplot as plt\n",
    "from math import log"
   ]
  },
  {
   "cell_type": "code",
   "execution_count": 122,
   "metadata": {},
   "outputs": [],
   "source": [
    "from random import shuffle"
   ]
  },
  {
   "cell_type": "code",
   "execution_count": 3,
   "metadata": {},
   "outputs": [],
   "source": [
    "train_df = pd.read_csv(\"../data/nlp_new_train0/train.csv\")\n",
    "dev_df = pd.read_csv(\"../data/nlp_new_train0/dev.csv\")\n",
    "test_df = pd.read_csv(\"../data/nlp_new_train0/test.csv\")"
   ]
  },
  {
   "cell_type": "code",
   "execution_count": 4,
   "metadata": {},
   "outputs": [
    {
     "data": {
      "text/plain": [
       "(64864, 4)"
      ]
     },
     "execution_count": 4,
     "metadata": {},
     "output_type": "execute_result"
    }
   ],
   "source": [
    "train_df.shape"
   ]
  },
  {
   "cell_type": "code",
   "execution_count": 5,
   "metadata": {},
   "outputs": [],
   "source": [
    "aug_df = pd.DataFrame(columns = train_df.columns)"
   ]
  },
  {
   "cell_type": "code",
   "execution_count": 10,
   "metadata": {},
   "outputs": [],
   "source": [
    "with open('../data/stop_words.txt','r',encoding='utf-8') as file:\n",
    "    stop_words = []\n",
    "    for line in file.readlines():\n",
    "        stop_words.append(line.strip())"
   ]
  },
  {
   "cell_type": "code",
   "execution_count": 129,
   "metadata": {},
   "outputs": [],
   "source": [
    "s = train_df['question1'][0]"
   ]
  },
  {
   "cell_type": "code",
   "execution_count": 30,
   "metadata": {},
   "outputs": [],
   "source": [
    "s=\"aaaaa1\""
   ]
  },
  {
   "cell_type": "code",
   "execution_count": 73,
   "metadata": {},
   "outputs": [
    {
     "data": {
      "text/plain": [
       "('内容', '', '')"
      ]
     },
     "execution_count": 73,
     "metadata": {},
     "output_type": "execute_result"
    }
   ],
   "source": [
    "s.partition('1')"
   ]
  },
  {
   "cell_type": "code",
   "execution_count": 37,
   "metadata": {},
   "outputs": [],
   "source": [
    "t = ()"
   ]
  },
  {
   "cell_type": "code",
   "execution_count": 38,
   "metadata": {},
   "outputs": [],
   "source": [
    "t1=(2,3)"
   ]
  },
  {
   "cell_type": "code",
   "execution_count": 24,
   "metadata": {},
   "outputs": [],
   "source": [
    "import re"
   ]
  },
  {
   "cell_type": "code",
   "execution_count": 149,
   "metadata": {},
   "outputs": [],
   "source": [
    "def trans_str(s,seg):\n",
    "    result = ()\n",
    "    parti = []\n",
    "    words = seg.cut(s)\n",
    "    parts=()\n",
    "    for w in words:\n",
    "        if w in stop_words:\n",
    "            parti.append(w)\n",
    "    for stop in parti:\n",
    "        if s==\"\":\n",
    "            break\n",
    "        else:\n",
    "            parts = s.partition(stop)\n",
    "            s =parts[2]\n",
    "            prefix = (parts[0],parts[1])\n",
    "            result +=prefix\n",
    "    if parts:\n",
    "        result+=(parts[2],\"\")\n",
    "        result = list(result)\n",
    "    else:\n",
    "        result = words\n",
    "    shuffle(result)\n",
    "    shuffled = \"\".join(result)\n",
    "    return shuffled"
   ]
  },
  {
   "cell_type": "markdown",
   "metadata": {},
   "source": [
    "使训练集和测试集同分布 类别标签1：1"
   ]
  },
  {
   "cell_type": "code",
   "execution_count": 177,
   "metadata": {},
   "outputs": [
    {
     "name": "stderr",
     "output_type": "stream",
     "text": [
      "/home/fuyonghao/anaconda3/envs/pretrained/lib/python3.6/site-packages/ipykernel_launcher.py:11: SettingWithCopyWarning: \n",
      "A value is trying to be set on a copy of a slice from a DataFrame\n",
      "\n",
      "See the caveats in the documentation: http://pandas.pydata.org/pandas-docs/stable/user_guide/indexing.html#returning-a-view-versus-a-copy\n",
      "  # This is added back by InteractiveShellApp.init_path()\n",
      "/home/fuyonghao/anaconda3/envs/pretrained/lib/python3.6/site-packages/ipykernel_launcher.py:12: SettingWithCopyWarning: \n",
      "A value is trying to be set on a copy of a slice from a DataFrame\n",
      "\n",
      "See the caveats in the documentation: http://pandas.pydata.org/pandas-docs/stable/user_guide/indexing.html#returning-a-view-versus-a-copy\n",
      "  if sys.path[0] == '':\n",
      "/home/fuyonghao/anaconda3/envs/pretrained/lib/python3.6/site-packages/ipykernel_launcher.py:17: SettingWithCopyWarning: \n",
      "A value is trying to be set on a copy of a slice from a DataFrame\n",
      "\n",
      "See the caveats in the documentation: http://pandas.pydata.org/pandas-docs/stable/user_guide/indexing.html#returning-a-view-versus-a-copy\n",
      "/home/fuyonghao/anaconda3/envs/pretrained/lib/python3.6/site-packages/ipykernel_launcher.py:18: SettingWithCopyWarning: \n",
      "A value is trying to be set on a copy of a slice from a DataFrame\n",
      "\n",
      "See the caveats in the documentation: http://pandas.pydata.org/pandas-docs/stable/user_guide/indexing.html#returning-a-view-versus-a-copy\n",
      "/home/fuyonghao/anaconda3/envs/pretrained/lib/python3.6/site-packages/ipykernel_launcher.py:23: SettingWithCopyWarning: \n",
      "A value is trying to be set on a copy of a slice from a DataFrame\n",
      "\n",
      "See the caveats in the documentation: http://pandas.pydata.org/pandas-docs/stable/user_guide/indexing.html#returning-a-view-versus-a-copy\n",
      "/home/fuyonghao/anaconda3/envs/pretrained/lib/python3.6/site-packages/ipykernel_launcher.py:24: SettingWithCopyWarning: \n",
      "A value is trying to be set on a copy of a slice from a DataFrame\n",
      "\n",
      "See the caveats in the documentation: http://pandas.pydata.org/pandas-docs/stable/user_guide/indexing.html#returning-a-view-versus-a-copy\n"
     ]
    }
   ],
   "source": [
    "aug_df = pd.DataFrame(columns = train_df.columns)\n",
    "aug_index = 0\n",
    "max_length = 500\n",
    "equal_df = train_df[train_df['label']==1]\n",
    "for index, row in equal_df.iterrows():\n",
    "        question1= row['question1']\n",
    "        question2=row[\"question2\"]              \n",
    "        shuffled1=trans_str(question1,seg)\n",
    "        shuffled2=trans_str(question2,seg) \n",
    "        aug_df = aug_df.append(row,ignore_index=True)\n",
    "        aug_df['question1'][aug_index] = shuffled1\n",
    "        aug_df['question2'][aug_index] = shuffled2\n",
    "        aug_index +=1\n",
    "        shuffled1=trans_str(question1,seg)\n",
    "        shuffled2=trans_str(question2,seg)\n",
    "        aug_df = aug_df.append(row,ignore_index=True)\n",
    "        aug_df['question1'][aug_index] = question1\n",
    "        aug_df['question2'][aug_index] = shuffled2\n",
    "        aug_index +=1\n",
    "        shuffled1=trans_str(question1,seg)\n",
    "        shuffled2=trans_str(question2,seg)\n",
    "        aug_df = aug_df.append(row,ignore_index=True)\n",
    "        aug_df['question1'][aug_index] = shuffled1\n",
    "        aug_df['question2'][aug_index] = question2\n",
    "        aug_index +=1"
   ]
  },
  {
   "cell_type": "code",
   "execution_count": 210,
   "metadata": {},
   "outputs": [],
   "source": [
    "equal_dev = dev_df[dev_df['label']==1]"
   ]
  },
  {
   "cell_type": "code",
   "execution_count": 211,
   "metadata": {},
   "outputs": [
    {
     "data": {
      "text/plain": [
       "(3855, 4)"
      ]
     },
     "execution_count": 211,
     "metadata": {},
     "output_type": "execute_result"
    }
   ],
   "source": [
    "equal_dev.shape"
   ]
  },
  {
   "cell_type": "code",
   "execution_count": 212,
   "metadata": {},
   "outputs": [
    {
     "data": {
      "text/plain": [
       "(12361, 4)"
      ]
     },
     "execution_count": 212,
     "metadata": {},
     "output_type": "execute_result"
    }
   ],
   "source": [
    "dev_df[dev_df['label']==0].shape"
   ]
  },
  {
   "cell_type": "code",
   "execution_count": 213,
   "metadata": {},
   "outputs": [],
   "source": [
    "aug_dev = dev_df.copy()"
   ]
  },
  {
   "cell_type": "code",
   "execution_count": 165,
   "metadata": {},
   "outputs": [],
   "source": [
    "aug_df.append??"
   ]
  },
  {
   "cell_type": "code",
   "execution_count": 162,
   "metadata": {},
   "outputs": [],
   "source": [
    "ws = trans_str(\"劳动合同何时生效\",seg)"
   ]
  },
  {
   "cell_type": "code",
   "execution_count": 128,
   "metadata": {},
   "outputs": [],
   "source": [
    "aug_total = pd.concat((test_df,aug_df), ignore_index=True)"
   ]
  },
  {
   "cell_type": "code",
   "execution_count": 130,
   "metadata": {},
   "outputs": [],
   "source": [
    "aug_total[['id','title','content']].to_csv(\"../data/data_set_double/test.csv\",index=False)"
   ]
  },
  {
   "cell_type": "code",
   "execution_count": 7,
   "metadata": {},
   "outputs": [],
   "source": [
    "train_df = pd.read_csv(\"../data/data_set/train.csv\")"
   ]
  },
  {
   "cell_type": "code",
   "execution_count": 8,
   "metadata": {},
   "outputs": [],
   "source": [
    "dev_df = pd.read_csv(\"../data/data_set/dev.csv\")"
   ]
  },
  {
   "cell_type": "code",
   "execution_count": 9,
   "metadata": {},
   "outputs": [],
   "source": [
    "total_df = pd.concat([train_df,dev_df],axis = 0)"
   ]
  },
  {
   "cell_type": "code",
   "execution_count": 10,
   "metadata": {},
   "outputs": [],
   "source": [
    "total_df['content_len'] = total_df.content.apply(lambda x:len(x))"
   ]
  },
  {
   "cell_type": "code",
   "execution_count": 11,
   "metadata": {},
   "outputs": [],
   "source": [
    "zero_df = total_df[total_df.label==0]\n",
    "one_df = total_df[total_df.label==1]\n",
    "two_df = total_df[total_df.label==2]"
   ]
  },
  {
   "cell_type": "code",
   "execution_count": 12,
   "metadata": {},
   "outputs": [
    {
     "data": {
      "text/plain": [
       "count     1522.000000\n",
       "mean      1066.963206\n",
       "std       1216.244841\n",
       "min          5.000000\n",
       "25%        435.000000\n",
       "50%        701.500000\n",
       "75%       1243.000000\n",
       "max      19008.000000\n",
       "Name: content_len, dtype: float64"
      ]
     },
     "execution_count": 12,
     "metadata": {},
     "output_type": "execute_result"
    }
   ],
   "source": [
    "zero_df.content_len.describe()"
   ]
  },
  {
   "cell_type": "code",
   "execution_count": 170,
   "metadata": {},
   "outputs": [
    {
     "data": {
      "text/plain": [
       "(array([0.00318824, 0.        , 0.00318824, 0.        , 0.00318824,\n",
       "        0.        , 0.00637648, 0.00637648, 0.00956471, 0.00956471,\n",
       "        0.00637648, 0.01275295, 0.00637648, 0.04463533, 0.03825885,\n",
       "        0.01594119, 0.03825885, 0.07651771, 0.09883537, 0.24549431,\n",
       "        0.31882377, 0.43360033, 0.52605923, 0.52605923, 0.48780037,\n",
       "        0.388965  , 0.41447091, 0.26143549, 0.22955312, 0.23274135,\n",
       "        0.15941189, 0.07014123, 0.06057652, 0.07014123, 0.02869414,\n",
       "        0.00318824, 0.00637648, 0.        , 0.00318824, 0.00637648]),\n",
       " array([1.60943791, 1.81551735, 2.02159678, 2.22767621, 2.43375564,\n",
       "        2.63983508, 2.84591451, 3.05199394, 3.25807337, 3.46415281,\n",
       "        3.67023224, 3.87631167, 4.08239111, 4.28847054, 4.49454997,\n",
       "        4.7006294 , 4.90670884, 5.11278827, 5.3188677 , 5.52494713,\n",
       "        5.73102657, 5.937106  , 6.14318543, 6.34926487, 6.5553443 ,\n",
       "        6.76142373, 6.96750316, 7.1735826 , 7.37966203, 7.58574146,\n",
       "        7.79182089, 7.99790033, 8.20397976, 8.41005919, 8.61613863,\n",
       "        8.82221806, 9.02829749, 9.23437692, 9.44045636, 9.64653579,\n",
       "        9.85261522]),\n",
       " <a list of 40 Patch objects>)"
      ]
     },
     "execution_count": 170,
     "metadata": {},
     "output_type": "execute_result"
    },
    {
     "data": {
      "image/png": "[encoded data removed]",
      "text/plain": [
       "<Figure size 432x288 with 1 Axes>"
      ]
     },
     "metadata": {
      "needs_background": "light"
     },
     "output_type": "display_data"
    }
   ],
   "source": [
    "zero_len = np.array([log(i) for i in zero_df.content_len])\n",
    "plt.hist(zero_len,bins=40,density=True,cumulative=False)"
   ]
  },
  {
   "cell_type": "code",
   "execution_count": 166,
   "metadata": {},
   "outputs": [
    {
     "data": {
      "text/plain": [
       "count     7298.000000\n",
       "mean      1219.371061\n",
       "std       1910.223146\n",
       "min          1.000000\n",
       "25%        245.000000\n",
       "50%        722.000000\n",
       "75%       1443.750000\n",
       "max      31476.000000\n",
       "Name: content_len, dtype: float64"
      ]
     },
     "execution_count": 166,
     "metadata": {},
     "output_type": "execute_result"
    }
   ],
   "source": [
    "one_df.content_len.describe()"
   ]
  },
  {
   "cell_type": "code",
   "execution_count": 169,
   "metadata": {},
   "outputs": [
    {
     "data": {
      "text/plain": [
       "(array([0.01217169, 0.        , 0.00740885, 0.        , 0.00793806,\n",
       "        0.00423363, 0.02646019, 0.01799293, 0.05186197, 0.05768322,\n",
       "        0.07408853, 0.0698549 , 0.08784783, 0.07673455, 0.04656994,\n",
       "        0.04286551, 0.06720888, 0.05715401, 0.06615048, 0.07673455,\n",
       "        0.08678943, 0.12912573, 0.194747  , 0.24131694, 0.30058777,\n",
       "        0.34504089, 0.40007809, 0.32281433, 0.26671872, 0.21750277,\n",
       "        0.15399831, 0.10901599, 0.16299478, 0.02381417, 0.02275576,\n",
       "        0.01111328, 0.00952567, 0.00582124, 0.00370443, 0.00370443]),\n",
       " array([ 0.        ,  0.25892452,  0.51784903,  0.77677355,  1.03569806,\n",
       "         1.29462258,  1.55354709,  1.81247161,  2.07139613,  2.33032064,\n",
       "         2.58924516,  2.84816967,  3.10709419,  3.3660187 ,  3.62494322,\n",
       "         3.88386774,  4.14279225,  4.40171677,  4.66064128,  4.9195658 ,\n",
       "         5.17849031,  5.43741483,  5.69633935,  5.95526386,  6.21418838,\n",
       "         6.47311289,  6.73203741,  6.99096193,  7.24988644,  7.50881096,\n",
       "         7.76773547,  8.02665999,  8.2855845 ,  8.54450902,  8.80343354,\n",
       "         9.06235805,  9.32128257,  9.58020708,  9.8391316 , 10.09805611,\n",
       "        10.35698063]),\n",
       " <a list of 40 Patch objects>)"
      ]
     },
     "execution_count": 169,
     "metadata": {},
     "output_type": "execute_result"
    },
    {
     "data": {
      "image/png": "[encoded data removed]",
      "text/plain": [
       "<Figure size 432x288 with 1 Axes>"
      ]
     },
     "metadata": {
      "needs_background": "light"
     },
     "output_type": "display_data"
    }
   ],
   "source": [
    "one_len = np.array([log(i) for i in one_df.content_len])\n",
    "\n",
    "plt.hist(one_len,bins=40,density=True,cumulative=False)"
   ]
  },
  {
   "cell_type": "code",
   "execution_count": 167,
   "metadata": {},
   "outputs": [
    {
     "data": {
      "text/plain": [
       "count     5876.000000\n",
       "mean       910.083220\n",
       "std       1186.292414\n",
       "min          1.000000\n",
       "25%        267.000000\n",
       "50%        610.000000\n",
       "75%       1118.250000\n",
       "max      25122.000000\n",
       "Name: content_len, dtype: float64"
      ]
     },
     "execution_count": 167,
     "metadata": {},
     "output_type": "execute_result"
    }
   ],
   "source": [
    "two_df.content_len.describe()"
   ]
  },
  {
   "cell_type": "code",
   "execution_count": 171,
   "metadata": {},
   "outputs": [
    {
     "data": {
      "text/plain": [
       "(array([0.0114223 , 0.        , 0.0006719 , 0.        , 0.0026876 ,\n",
       "        0.0087347 , 0.0047033 , 0.0080628 , 0.01814129, 0.02015699,\n",
       "        0.03090739, 0.04098589, 0.07458087, 0.08062797, 0.03225119,\n",
       "        0.04770488, 0.09205027, 0.07525277, 0.08264367, 0.10481636,\n",
       "        0.10548826, 0.13236425, 0.20156993, 0.31176149, 0.35610687,\n",
       "        0.40985886, 0.45084474, 0.33998128, 0.2875731 , 0.22038312,\n",
       "        0.15588075, 0.09608167, 0.06517428, 0.04904868, 0.01478179,\n",
       "        0.0073909 , 0.0026876 , 0.0006719 , 0.0033595 , 0.0006719 ]),\n",
       " array([ 0.        ,  0.25328748,  0.50657496,  0.75986244,  1.01314992,\n",
       "         1.2664374 ,  1.51972489,  1.77301237,  2.02629985,  2.27958733,\n",
       "         2.53287481,  2.78616229,  3.03944977,  3.29273725,  3.54602473,\n",
       "         3.79931221,  4.05259969,  4.30588717,  4.55917466,  4.81246214,\n",
       "         5.06574962,  5.3190371 ,  5.57232458,  5.82561206,  6.07889954,\n",
       "         6.33218702,  6.5854745 ,  6.83876198,  7.09204946,  7.34533695,\n",
       "         7.59862443,  7.85191191,  8.10519939,  8.35848687,  8.61177435,\n",
       "         8.86506183,  9.11834931,  9.37163679,  9.62492427,  9.87821175,\n",
       "        10.13149924]),\n",
       " <a list of 40 Patch objects>)"
      ]
     },
     "execution_count": 171,
     "metadata": {},
     "output_type": "execute_result"
    },
    {
     "data": {
      "image/png": "[encoded data removed]",
      "text/plain": [
       "<Figure size 432x288 with 1 Axes>"
      ]
     },
     "metadata": {
      "needs_background": "light"
     },
     "output_type": "display_data"
    }
   ],
   "source": [
    "two_len = np.array([log(i) for i in two_df.content_len])\n",
    "\n",
    "plt.hist(two_len,bins=40,density=True,cumulative=False)"
   ]
  },
  {
   "cell_type": "code",
   "execution_count": 13,
   "metadata": {},
   "outputs": [],
   "source": [
    "zero_content = ''\n",
    "for content in zero_df.content:\n",
    "    zero_content +=content\n",
    "one_content = ''\n",
    "for content in one_df.content:\n",
    "    one_content +=content\n",
    "two_content = ''\n",
    "for content in two_df.content:\n",
    "    two_content +=content"
   ]
  },
  {
   "cell_type": "code",
   "execution_count": 14,
   "metadata": {},
   "outputs": [],
   "source": [
    "corpus = [zero_content,one_content, two_content]"
   ]
  },
  {
   "cell_type": "code",
   "execution_count": 15,
   "metadata": {},
   "outputs": [],
   "source": [
    "from sklearn.feature_extraction.text import CountVectorizer\n",
    "from sklearn.feature_extraction.text import TfidfVectorizer\n",
    "from sklearn.datasets import fetch_20newsgroups"
   ]
  },
  {
   "cell_type": "code",
   "execution_count": 16,
   "metadata": {},
   "outputs": [],
   "source": [
    "seg = pkuseg(model_name = \"news\", user_dict = \"default\", postag = False)"
   ]
  },
  {
   "cell_type": "code",
   "execution_count": 17,
   "metadata": {},
   "outputs": [],
   "source": []
  },
  {
   "cell_type": "code",
   "execution_count": 200,
   "metadata": {},
   "outputs": [],
   "source": [
    "countv = CountVectorizer(analyzer='word',stop_words=stop_words,tokenizer=seg.cut)"
   ]
  },
  {
   "cell_type": "code",
   "execution_count": 18,
   "metadata": {},
   "outputs": [],
   "source": [
    "tfidf = TfidfVectorizer(analyzer='word',stop_words=stop_words,tokenizer=seg.cut)"
   ]
  },
  {
   "cell_type": "code",
   "execution_count": 19,
   "metadata": {},
   "outputs": [],
   "source": [
    "X = tfidf.fit_transform(corpus)"
   ]
  },
  {
   "cell_type": "code",
   "execution_count": 27,
   "metadata": {},
   "outputs": [],
   "source": [
    "words = list(tfidf.get_feature_names())"
   ]
  },
  {
   "cell_type": "code",
   "execution_count": null,
   "metadata": {},
   "outputs": [],
   "source": [
    "dict_3 = {}\n",
    "for i in range(len(words)):\n",
    "    dict_3[words[i]] = X[2,i]"
   ]
  },
  {
   "cell_type": "code",
   "execution_count": 43,
   "metadata": {},
   "outputs": [],
   "source": [
    "import operator"
   ]
  },
  {
   "cell_type": "code",
   "execution_count": null,
   "metadata": {},
   "outputs": [],
   "source": [
    "dict_3 = sorted(dict_3.items(),key = operator.itemgetter(1),reverse=True)"
   ]
  },
  {
   "cell_type": "code",
   "execution_count": null,
   "metadata": {},
   "outputs": [],
   "source": [
    "for i in range(200):\n",
    "    print(dict_1[i])"
   ]
  },
  {
   "cell_type": "code",
   "execution_count": 69,
   "metadata": {},
   "outputs": [
    {
     "data": {
      "text/plain": [
       "Series([], Name: content, dtype: object)"
      ]
     },
     "execution_count": 69,
     "metadata": {},
     "output_type": "execute_result"
    }
   ],
   "source": [
    "aug_df.content"
   ]
  },
  {
   "cell_type": "code",
   "execution_count": 72,
   "metadata": {},
   "outputs": [
    {
     "data": {
      "text/plain": [
       "(14601, 5)"
      ]
     },
     "execution_count": 72,
     "metadata": {},
     "output_type": "execute_result"
    }
   ],
   "source": [
    "aug_df.shape"
   ]
  },
  {
   "cell_type": "code",
   "execution_count": 73,
   "metadata": {},
   "outputs": [
    {
     "data": {
      "text/plain": [
       "(11757, 5)"
      ]
     },
     "execution_count": 73,
     "metadata": {},
     "output_type": "execute_result"
    }
   ],
   "source": [
    "train_df.shape"
   ]
  },
  {
   "cell_type": "code",
   "execution_count": 74,
   "metadata": {},
   "outputs": [
    {
     "data": {
      "text/plain": [
       "(14601, 5)"
      ]
     },
     "execution_count": 74,
     "metadata": {},
     "output_type": "execute_result"
    }
   ],
   "source": [
    "aug_df.shape"
   ]
  },
  {
   "cell_type": "code",
   "execution_count": 77,
   "metadata": {},
   "outputs": [],
   "source": [
    "aug_df['content_len'] = aug_df.content.apply(lambda x :len(x))"
   ]
  },
  {
   "cell_type": "code",
   "execution_count": 93,
   "metadata": {},
   "outputs": [],
   "source": [
    "s = 'ssdfa'"
   ]
  },
  {
   "cell_type": "code",
   "execution_count": 111,
   "metadata": {},
   "outputs": [
    {
     "data": {
      "text/plain": [
       "'dfa'"
      ]
     },
     "execution_count": 111,
     "metadata": {},
     "output_type": "execute_result"
    }
   ],
   "source": [
    "s[-3:]"
   ]
  },
  {
   "cell_type": "code",
   "execution_count": 102,
   "metadata": {},
   "outputs": [],
   "source": [
    "aug_total = pd.merge??"
   ]
  },
  {
   "cell_type": "code",
   "execution_count": 103,
   "metadata": {},
   "outputs": [],
   "source": [
    "aug_total = pd.concat??"
   ]
  },
  {
   "cell_type": "code",
   "execution_count": 104,
   "metadata": {},
   "outputs": [],
   "source": [
    "\"\".join"
   ]
  },
  {
   "cell_type": "code",
   "execution_count": 107,
   "metadata": {},
   "outputs": [],
   "source": []
  },
  {
   "cell_type": "code",
   "execution_count": null,
   "metadata": {},
   "outputs": [],
   "source": []
  }
 ],
 "metadata": {
  "kernelspec": {
   "display_name": "pretrained",
   "language": "python",
   "name": "pretrained"
  },
  "language_info": {
   "codemirror_mode": {
    "name": "ipython",
    "version": 3
   },
   "file_extension": ".py",
   "mimetype": "text/x-python",
   "name": "python",
   "nbconvert_exporter": "python",
   "pygments_lexer": "ipython3",
   "version": "3.6.9"
  }
 },
 "nbformat": 4,
 "nbformat_minor": 2
}
